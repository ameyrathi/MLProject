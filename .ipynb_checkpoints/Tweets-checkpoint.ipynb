{
 "cells": [
  {
   "cell_type": "code",
   "execution_count": 83,
   "metadata": {},
   "outputs": [],
   "source": [
    "import pandas as pd\n",
    "import numpy as np\n",
    "import matplotlib.pyplot as plt\n",
    "import datetime as dt\n",
    "\n",
    "tweets = pd.read_csv('trumptweets.csv')"
   ]
  },
  {
   "cell_type": "code",
   "execution_count": 84,
   "metadata": {},
   "outputs": [
    {
     "data": {
      "text/plain": [
       "False    5126\n",
       "True      754\n",
       "Name: is_retweet, dtype: int64"
      ]
     },
     "execution_count": 84,
     "metadata": {},
     "output_type": "execute_result"
    }
   ],
   "source": [
    "tweets['is_retweet'].value_counts()"
   ]
  },
  {
   "cell_type": "code",
   "execution_count": 85,
   "metadata": {},
   "outputs": [
    {
     "data": {
      "text/html": [
       "<div>\n",
       "<style scoped>\n",
       "    .dataframe tbody tr th:only-of-type {\n",
       "        vertical-align: middle;\n",
       "    }\n",
       "\n",
       "    .dataframe tbody tr th {\n",
       "        vertical-align: top;\n",
       "    }\n",
       "\n",
       "    .dataframe thead th {\n",
       "        text-align: right;\n",
       "    }\n",
       "</style>\n",
       "<table border=\"1\" class=\"dataframe\">\n",
       "  <thead>\n",
       "    <tr style=\"text-align: right;\">\n",
       "      <th></th>\n",
       "      <th>source</th>\n",
       "      <th>text</th>\n",
       "      <th>created_at</th>\n",
       "      <th>retweet_count</th>\n",
       "      <th>favorite_count</th>\n",
       "      <th>is_retweet</th>\n",
       "      <th>id_str</th>\n",
       "    </tr>\n",
       "  </thead>\n",
       "  <tbody>\n",
       "    <tr>\n",
       "      <th>150</th>\n",
       "      <td>Twitter for iPhone</td>\n",
       "      <td>Never in the history of our Country has the “p...</td>\n",
       "      <td>12-15-2018 15:37:40</td>\n",
       "      <td>37948</td>\n",
       "      <td>143340</td>\n",
       "      <td>False</td>\n",
       "      <td>1.073970e+18</td>\n",
       "    </tr>\n",
       "    <tr>\n",
       "      <th>189</th>\n",
       "      <td>Twitter for iPhone</td>\n",
       "      <td>Despite the large Caravans that WERE forming a...</td>\n",
       "      <td>12/11/2018 11:52</td>\n",
       "      <td>20287</td>\n",
       "      <td>93608</td>\n",
       "      <td>False</td>\n",
       "      <td>1.072460e+18</td>\n",
       "    </tr>\n",
       "  </tbody>\n",
       "</table>\n",
       "</div>"
      ],
      "text/plain": [
       "                 source                                               text  \\\n",
       "150  Twitter for iPhone  Never in the history of our Country has the “p...   \n",
       "189  Twitter for iPhone  Despite the large Caravans that WERE forming a...   \n",
       "\n",
       "              created_at  retweet_count  favorite_count is_retweet  \\\n",
       "150  12-15-2018 15:37:40          37948          143340      False   \n",
       "189     12/11/2018 11:52          20287           93608      False   \n",
       "\n",
       "           id_str  \n",
       "150  1.073970e+18  \n",
       "189  1.072460e+18  "
      ]
     },
     "execution_count": 85,
     "metadata": {},
     "output_type": "execute_result"
    }
   ],
   "source": [
    "tweets.iloc[[150, 189], :]"
   ]
  },
  {
   "cell_type": "code",
   "execution_count": 92,
   "metadata": {},
   "outputs": [
    {
     "data": {
      "text/plain": [
       "text              On 245  occasions former FBI Director James Co...\n",
       "retweet_count                                                 35672\n",
       "favorite_count                                               129097\n",
       "date                                                     12-9-2018 \n",
       "time                                                           3:38\n",
       "Name: 189, dtype: object"
      ]
     },
     "execution_count": 92,
     "metadata": {},
     "output_type": "execute_result"
    }
   ],
   "source": [
    "## tweets that are Trump's\n",
    "tweets1 = tweets[tweets['is_retweet'] == False].reset_index(drop=True)\n",
    "\n",
    "tweets2 = tweets1.iloc[:, 1:5]\n",
    "\n",
    "tweets2['date'] = [i[:10].replace('/', '-') for i in tweets2['created_at']]\n",
    "\n",
    "tweets2['time'] = [i[11:16] for i in tweets2['created_at']]\n",
    "\n",
    "tweets2 = tweets2.drop(columns = 'created_at')\n",
    "\n",
    "#tweets2['date'] = pd.to_datetime(tweets2['date'], format='%m/%d/%Y')\n",
    "\n",
    "#tweets2['date'] = [dt.datetime.strftime(i, '%d/%m/%Y') for i in tweets2['date']]\n",
    "\n",
    "tweets2.iloc[189,:]"
   ]
  },
  {
   "cell_type": "code",
   "execution_count": 63,
   "metadata": {},
   "outputs": [
    {
     "data": {
      "text/plain": [
       "0       12-30-2018\n",
       "1       12-30-2018\n",
       "2       12-30-2018\n",
       "3       12-29-2018\n",
       "4       12-29-2018\n",
       "           ...    \n",
       "5121    01-20-2017\n",
       "5122    01-20-2017\n",
       "5123    01-19-2017\n",
       "5124    01-19-2017\n",
       "5125    01-19-2017\n",
       "Name: date, Length: 5126, dtype: object"
      ]
     },
     "execution_count": 63,
     "metadata": {},
     "output_type": "execute_result"
    }
   ],
   "source": [
    "tweets2['date']"
   ]
  },
  {
   "cell_type": "code",
   "execution_count": 62,
   "metadata": {},
   "outputs": [
    {
     "data": {
      "image/png": "[encoded data removed]",
      "text/plain": [
       "<Figure size 432x288 with 1 Axes>"
      ]
     },
     "metadata": {},
     "output_type": "display_data"
    },
    {
     "data": {
      "image/png": "[encoded data removed]",
      "text/plain": [
       "<Figure size 432x288 with 1 Axes>"
      ]
     },
     "metadata": {},
     "output_type": "display_data"
    }
   ],
   "source": [
    "plt.hist(tweets2.retweet_count, bins = 80)\n",
    "plt.xlim(left=0, right=120000)\n",
    "plt.title('Distribution of retweet counts')\n",
    "plt.xlabel('Number of retweet counts')\n",
    "plt.ylabel('Frequency')\n",
    "plt.show()\n",
    "\n",
    "plt.hist(tweets2.favorite_count, bins = 70)\n",
    "plt.xlim(left=0, right=300000)\n",
    "plt.title('Distribution of retweet counts')\n",
    "plt.xlabel('Number of retweet counts')\n",
    "plt.ylabel('Frequency')\n",
    "plt.show()"
   ]
  },
  {
   "cell_type": "code",
   "execution_count": null,
   "metadata": {},
   "outputs": [],
   "source": [
    "tweets['Mycol'] =  pd.to_datetime(raw_data['Mycol'], format='%d%b%Y:%H:%M:%S.%f')"
   ]
  },
  {
   "cell_type": "code",
   "execution_count": null,
   "metadata": {},
   "outputs": [],
   "source": []
  }
 ],
 "metadata": {
  "kernelspec": {
   "display_name": "Python 3",
   "language": "python",
   "name": "python3"
  },
  "language_info": {
   "codemirror_mode": {
    "name": "ipython",
    "version": 3
   },
   "file_extension": ".py",
   "mimetype": "text/x-python",
   "name": "python",
   "nbconvert_exporter": "python",
   "pygments_lexer": "ipython3",
   "version": "3.6.5"
  }
 },
 "nbformat": 4,
 "nbformat_minor": 2
}
