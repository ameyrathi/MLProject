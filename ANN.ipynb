{
 "cells": [
  {
   "cell_type": "code",
   "execution_count": 103,
   "metadata": {},
   "outputs": [],
   "source": [
    "import pandas as pd\n",
    "import numpy as np\n",
    "import keras\n",
    "from keras.models import Sequential\n",
    "from keras.layers import Dense\n",
    "from keras.layers import Dropout\n",
    "from sklearn.model_selection import train_test_split\n",
    "from sklearn import metrics\n",
    "import matplotlib.pyplot as plt\n",
    "from keras import backend as K\n",
    "from sklearn.metrics import confusion_matrix\n",
    "from sklearn.model_selection import GridSearchCV\n",
    "from keras.wrappers.scikit_learn import KerasClassifier\n",
    "from keras.optimizers import Adam\n",
    "import pandas as pd\n",
    "import lightgbm as lgbm\n",
    "from imblearn.over_sampling import SMOTE\n",
    "from sklearn.ensemble import RandomForestClassifier"
   ]
  },
  {
   "cell_type": "code",
   "execution_count": 110,
   "metadata": {},
   "outputs": [],
   "source": [
    "#for getting the price change (price before tweet and price after the tweet) #5mins interval one\n",
    "df2 = pd.read_csv(\"tweets_stocks_combined_final_60mins.csv\")\n",
    "\n",
    "df2 = df2[df2['text'].notnull()]\n",
    "\n",
    "#creates a list of values for the y label for each row\n",
    "target_value=[]\n",
    "counter1 = 0\n",
    "counter2 = 0\n",
    "counter3 = 0\n",
    "\n",
    "\n",
    "for i in range(0, len(df2)):\n",
    "    \n",
    "    if df2.iloc[i, 16] >= 0.020000:\n",
    "        target_value.append(1)\n",
    "        counter1 = 0\n",
    "\n",
    "    elif df2.iloc[i, 16] <= -0.003393:\n",
    "        target_value.append(-1)\n",
    "        counter2 = 0\n",
    "\n",
    "    else: #df2.iloc[i, 16] == 0:\n",
    "        target_value.append(0)\n",
    "        counter3 = 0\n",
    "    \n",
    "compound_group = []\n",
    "\n",
    "for i in range(0, len(df2)):\n",
    "    \n",
    "    if df2.iloc[i, 12] >= 0.6:\n",
    "        compound_group.append(15)\n",
    "        \n",
    "    elif df2.iloc[i, 12] >= 0.1:\n",
    "        compound_group.append(14)\n",
    "      \n",
    "    elif df2.iloc[i, 12] > -0.1 and df2.iloc[i, 12] < 0.1:\n",
    "        compound_group.append(13)\n",
    "        \n",
    "    elif df2.iloc[i, 12] <= -0.6:\n",
    "        compound_group.append(11)\n",
    "    \n",
    "    elif df2.iloc[i, 12] <= -0.1:\n",
    "        compound_group.append(12)\n",
    "        \n",
    "        \n",
    "hours_grouped = []\n",
    "\n",
    "for i in range(0, len(df2)):\n",
    "    \n",
    "    if df2.iloc[i, 8] >= 16:\n",
    "        hours_grouped.append(20)\n",
    "        \n",
    "    elif df2.iloc[i, 8] >= 12:\n",
    "        hours_grouped.append(19)\n",
    "        \n",
    "    else:\n",
    "        hours_grouped.append(18)\n",
    "      \n",
    "        \n",
    "#create a column for the y_label \n",
    "df2.loc[:, 'hours_grouped'] = hours_grouped\n",
    "df2.loc[:,'target'] = target_value\n",
    "df2.loc[:, 'compound_group'] = compound_group\n",
    "\n",
    "df2 = df2[['topic', 'compound_group', 'hours_grouped', 'target']]\n",
    "\n",
    "comp = pd.get_dummies(df2['compound_group'])\n",
    "topic = pd.get_dummies(df2['topic'])\n",
    "hrs = pd.get_dummies(df2['hours_grouped'])\n",
    "# Drop column as it is now encoded\n",
    "df2 = df2.drop(['compound_group'], axis = 1)\n",
    "df2 = df2.drop(['topic'], axis = 1)\n",
    "df2 = df2.drop(['hours_grouped'], axis = 1)\n",
    "# Join the encoded df\n",
    "df2 = df2.join(comp)\n",
    "df2 = df2.join(topic)\n",
    "df2 = df2.join(hrs)\n",
    "\n",
    "X = df2.iloc[:, 1:]\n",
    "y = df2.target\n",
    "class_labels = [-1, 0, 1]\n",
    "y = y.apply(lambda x: class_labels.index(x))\n",
    "\n",
    "#Train-test split\n",
    "#test size is 20% of the dataset\n",
    "X_train,X_test,y_train,y_test = train_test_split(X, y, test_size=0.2, random_state=1)\n",
    "\n",
    "smote = SMOTE(random_state=0, sampling_strategy='minority')\n",
    "X_train, y_train = smote.fit_sample(X_train, y_train)"
   ]
  },
  {
   "cell_type": "markdown",
   "metadata": {},
   "source": [
    "## GridSearchCV Hyperparameter Tuning"
   ]
  },
  {
   "cell_type": "code",
   "execution_count": null,
   "metadata": {},
   "outputs": [],
   "source": [
    "def create_model(optimizer, activation, dropout_rate, neurons1, neurons2):\n",
    "    # create model\n",
    "    model = Sequential()\n",
    "    model.add(Dense(neurons1, input_dim=len(X_train.columns), activation=activation))\n",
    "    model.add(Dropout(dropout_rate))\n",
    "    model.add(Dense(neurons2, activation=activation))\n",
    "    model.add(Dense(3))\n",
    "    # Compile model\n",
    "    model.compile(optimizer=optimizer,\n",
    "              loss=keras.losses.SparseCategoricalCrossentropy(from_logits=True),\n",
    "              metrics=['accuracy'])\n",
    "    return model\n",
    "\n",
    "# create model\n",
    "model = KerasClassifier(build_fn=create_model, epochs=50)\n",
    "# define the grid search parameters\n",
    "optimizer = ['SGD', 'Adam']\n",
    "activation = ['softmax', 'relu', 'tanh', 'sigmoid']\n",
    "dropout_rate = [0.0, 0.1, 0.2]\n",
    "neurons1 = [8, 16, 32]\n",
    "neurons2 = [8, 16, 32]\n",
    "param_grid = dict(optimizer=optimizer, activation=activation, dropout_rate=dropout_rate, neurons1=neurons1, neurons2=neurons2)\n",
    "grid = GridSearchCV(estimator=model, param_grid=param_grid, n_jobs=-1, cv=3, scoring='f1_micro', verbose=2)\n",
    "grid_result = grid.fit(X_train, y_train)\n",
    "# summarize results\n",
    "print(\"Best: %f using %s\" % (grid_result.best_score_, grid_result.best_params_))\n",
    "means = grid_result.cv_results_['mean_test_score']\n",
    "stds = grid_result.cv_results_['std_test_score']\n",
    "params = grid_result.cv_results_['params']\n",
    "for mean, stdev, param in zip(means, stds, params):\n",
    "    print(\"%f (%f) with: %r\" % (mean, stdev, param))"
   ]
  },
  {
   "cell_type": "code",
   "execution_count": null,
   "metadata": {},
   "outputs": [],
   "source": []
  },
  {
   "cell_type": "code",
   "execution_count": null,
   "metadata": {},
   "outputs": [],
   "source": []
  },
  {
   "cell_type": "code",
   "execution_count": null,
   "metadata": {},
   "outputs": [],
   "source": []
  },
  {
   "cell_type": "code",
   "execution_count": 47,
   "metadata": {},
   "outputs": [
    {
     "data": {
      "image/png": "[encoded data removed]",
      "text/plain": [
       "<Figure size 432x288 with 1 Axes>"
      ]
     },
     "metadata": {
      "needs_background": "light"
     },
     "output_type": "display_data"
    },
    {
     "data": {
      "image/png": "[encoded data removed]",
      "text/plain": [
       "<Figure size 432x288 with 1 Axes>"
      ]
     },
     "metadata": {
      "needs_background": "light"
     },
     "output_type": "display_data"
    }
   ],
   "source": [
    "# summarize history for accuracy\n",
    "plt.plot(history.history['accuracy'])\n",
    "plt.plot(history.history['val_accuracy'])\n",
    "plt.title('model accuracy')\n",
    "plt.ylabel('accuracy')\n",
    "plt.xlabel('epoch')\n",
    "plt.legend(['train', 'test'], loc='upper left')\n",
    "plt.show()\n",
    "# summarize history for loss\n",
    "plt.plot(history.history['loss'])\n",
    "plt.plot(history.history['val_loss'])\n",
    "plt.title('model loss')\n",
    "plt.ylabel('loss')\n",
    "plt.xlabel('epoch')\n",
    "plt.legend(['train', 'test'], loc='upper left')\n",
    "plt.show()"
   ]
  },
  {
   "cell_type": "code",
   "execution_count": 62,
   "metadata": {},
   "outputs": [],
   "source": [
    "y_pred = model.predict_classes(X_test)"
   ]
  },
  {
   "cell_type": "code",
   "execution_count": 63,
   "metadata": {},
   "outputs": [
    {
     "data": {
      "text/plain": [
       "array([0, 2, 2, ..., 1, 1, 1], dtype=int64)"
      ]
     },
     "execution_count": 63,
     "metadata": {},
     "output_type": "execute_result"
    }
   ],
   "source": [
    "y_pred"
   ]
  },
  {
   "cell_type": "code",
   "execution_count": 64,
   "metadata": {},
   "outputs": [
    {
     "name": "stdout",
     "output_type": "stream",
     "text": [
      "Frequency of unique values of the said array:\n",
      "[[  0   1   2]\n",
      " [164 666 293]]\n"
     ]
    }
   ],
   "source": [
    "unique_elements, counts_elements = np.unique(y_pred, return_counts=True)\n",
    "print(\"Frequency of unique values of the said array:\")\n",
    "print(np.asarray((unique_elements, counts_elements)))"
   ]
  },
  {
   "cell_type": "code",
   "execution_count": 71,
   "metadata": {},
   "outputs": [
    {
     "data": {
      "text/plain": [
       "array([[ 62, 148, 109],\n",
       "       [ 21, 362,  14],\n",
       "       [ 81, 156, 170]], dtype=int64)"
      ]
     },
     "execution_count": 71,
     "metadata": {},
     "output_type": "execute_result"
    }
   ],
   "source": [
    "confusion_matrix(y_test, y_pred)"
   ]
  },
  {
   "cell_type": "code",
   "execution_count": 73,
   "metadata": {},
   "outputs": [
    {
     "data": {
      "text/plain": [
       "0.4897376859606557"
      ]
     },
     "execution_count": 73,
     "metadata": {},
     "output_type": "execute_result"
    }
   ],
   "source": [
    "metrics.f1_score(y_test, y_pred, average='weighted')"
   ]
  },
  {
   "cell_type": "code",
   "execution_count": null,
   "metadata": {},
   "outputs": [],
   "source": []
  }
 ],
 "metadata": {
  "kernelspec": {
   "display_name": "Python 3",
   "language": "python",
   "name": "python3"
  },
  "language_info": {
   "codemirror_mode": {
    "name": "ipython",
    "version": 3
   },
   "file_extension": ".py",
   "mimetype": "text/x-python",
   "name": "python",
   "nbconvert_exporter": "python",
   "pygments_lexer": "ipython3",
   "version": "3.7.7"
  }
 },
 "nbformat": 4,
 "nbformat_minor": 4
}
