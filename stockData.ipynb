{
 "cells": [
  {
   "cell_type": "markdown",
   "metadata": {},
   "source": [
    "## Clean Datasets and combine"
   ]
  },
  {
   "cell_type": "code",
   "execution_count": 7,
   "metadata": {},
   "outputs": [],
   "source": [
    "# Import all libraries \n",
    "import pandas as pd\n",
    "import numpy as np "
   ]
  },
  {
   "cell_type": "code",
   "execution_count": 8,
   "metadata": {},
   "outputs": [],
   "source": [
    "# Preprocessing of Stock price data \n",
    "# Datasets are combined after pre processing! (else kernel crashes)\n",
    "stock_price_2017 = pd.read_csv('yr2017.csv')\n",
    "stock_price_2018 = pd.read_csv('yr2018.csv')"
   ]
  },
  {
   "cell_type": "code",
   "execution_count": 9,
   "metadata": {},
   "outputs": [],
   "source": [
    "# Drop unwanted columns \n",
    "stock_price_2017.drop(columns=['SYM_ROOT', 'SYM_SUFFIX'], inplace=True)\n",
    "stock_price_2018.drop(columns=['SYM_ROOT', 'SYM_SUFFIX'], inplace=True)"
   ]
  },
  {
   "cell_type": "code",
   "execution_count": 10,
   "metadata": {},
   "outputs": [],
   "source": [
    "# Change to datetime objects\n",
    "from datetime import datetime\n",
    "stock_price_2017['TIME_M'] = pd.to_datetime(stock_price_2017['TIME_M'], format='%H:%M:%S.%f')\n",
    "stock_price_2018['TIME_M'] = pd.to_datetime(stock_price_2018['TIME_M'], format='%H:%M:%S.%f')"
   ]
  },
  {
   "cell_type": "code",
   "execution_count": 11,
   "metadata": {},
   "outputs": [],
   "source": [
    "# Remove seconds, milliseconds from data\n",
    "stock_price_2017['TIME_M'] = stock_price_2017['TIME_M'].dt.floor('Min').dt.time\n",
    "stock_price_2018['TIME_M'] = stock_price_2018['TIME_M'].dt.floor('Min').dt.time"
   ]
  },
  {
   "cell_type": "code",
   "execution_count": 12,
   "metadata": {},
   "outputs": [],
   "source": [
    "# Get minute to minute data (one entry for each minute)\n",
    "stock_price_2017.drop_duplicates(subset=['TIME_M','DATE'],inplace=True)\n",
    "stock_price_2018.drop_duplicates(subset=['TIME_M', 'DATE'],inplace=True)"
   ]
  },
  {
   "cell_type": "code",
   "execution_count": 18,
   "metadata": {},
   "outputs": [],
   "source": [
    "# Export to csv, will be used for preprocessing later!\n",
    "stock_price_2017.to_csv(\"yr2017_cleaned.csv\", index=False, header=True)\n",
    "stock_price_2018.to_csv(\"yr2018_cleaned.csv\", index=False, header=True)\n",
    "stock_price = pd.concat([stock_price_2017,stock_price_2018], ignore_index=True, sort=False)\n",
    "stock_price.to_csv(\"stock_price.csv\", index=False, header=True)"
   ]
  },
  {
   "cell_type": "markdown",
   "metadata": {},
   "source": [
    "## Interpolation of missing values"
   ]
  },
  {
   "cell_type": "code",
   "execution_count": 97,
   "metadata": {},
   "outputs": [],
   "source": [
    "stock_price_cleaned = pd.read_csv('stock_price_cleaned.csv')"
   ]
  },
  {
   "cell_type": "code",
   "execution_count": 98,
   "metadata": {},
   "outputs": [
    {
     "data": {
      "text/html": [
       "<div>\n",
       "<style scoped>\n",
       "    .dataframe tbody tr th:only-of-type {\n",
       "        vertical-align: middle;\n",
       "    }\n",
       "\n",
       "    .dataframe tbody tr th {\n",
       "        vertical-align: top;\n",
       "    }\n",
       "\n",
       "    .dataframe thead th {\n",
       "        text-align: right;\n",
       "    }\n",
       "</style>\n",
       "<table border=\"1\" class=\"dataframe\">\n",
       "  <thead>\n",
       "    <tr style=\"text-align: right;\">\n",
       "      <th></th>\n",
       "      <th>DATE_TIME_M</th>\n",
       "      <th>PRICE</th>\n",
       "    </tr>\n",
       "  </thead>\n",
       "  <tbody>\n",
       "    <tr>\n",
       "      <th>0</th>\n",
       "      <td>2017-01-20 04:00:00</td>\n",
       "      <td>226.50</td>\n",
       "    </tr>\n",
       "    <tr>\n",
       "      <th>1</th>\n",
       "      <td>2017-01-20 04:04:00</td>\n",
       "      <td>226.49</td>\n",
       "    </tr>\n",
       "    <tr>\n",
       "      <th>2</th>\n",
       "      <td>2017-01-20 04:05:00</td>\n",
       "      <td>226.52</td>\n",
       "    </tr>\n",
       "    <tr>\n",
       "      <th>3</th>\n",
       "      <td>2017-01-20 04:08:00</td>\n",
       "      <td>226.54</td>\n",
       "    </tr>\n",
       "    <tr>\n",
       "      <th>4</th>\n",
       "      <td>2017-01-20 04:10:00</td>\n",
       "      <td>226.52</td>\n",
       "    </tr>\n",
       "  </tbody>\n",
       "</table>\n",
       "</div>"
      ],
      "text/plain": [
       "           DATE_TIME_M   PRICE\n",
       "0  2017-01-20 04:00:00  226.50\n",
       "1  2017-01-20 04:04:00  226.49\n",
       "2  2017-01-20 04:05:00  226.52\n",
       "3  2017-01-20 04:08:00  226.54\n",
       "4  2017-01-20 04:10:00  226.52"
      ]
     },
     "execution_count": 98,
     "metadata": {},
     "output_type": "execute_result"
    }
   ],
   "source": [
    "stock_price_cleaned.head()"
   ]
  },
  {
   "cell_type": "code",
   "execution_count": 99,
   "metadata": {},
   "outputs": [
    {
     "data": {
      "text/plain": [
       "numpy.float64"
      ]
     },
     "execution_count": 99,
     "metadata": {},
     "output_type": "execute_result"
    }
   ],
   "source": [
    "type(stock_price_cleaned.iloc[0, 1])"
   ]
  },
  {
   "cell_type": "code",
   "execution_count": 100,
   "metadata": {},
   "outputs": [],
   "source": [
    "idx = pd.date_range(stock_price_cleaned.iloc[0, 0], stock_price_cleaned.iloc[-1, 0], freq='1min')"
   ]
  },
  {
   "cell_type": "code",
   "execution_count": 101,
   "metadata": {},
   "outputs": [
    {
     "data": {
      "text/plain": [
       "DatetimeIndex(['2017-01-20 04:00:00', '2017-01-20 04:01:00',\n",
       "               '2017-01-20 04:02:00', '2017-01-20 04:03:00',\n",
       "               '2017-01-20 04:04:00', '2017-01-20 04:05:00',\n",
       "               '2017-01-20 04:06:00', '2017-01-20 04:07:00',\n",
       "               '2017-01-20 04:08:00', '2017-01-20 04:09:00',\n",
       "               ...\n",
       "               '2018-12-31 19:51:00', '2018-12-31 19:52:00',\n",
       "               '2018-12-31 19:53:00', '2018-12-31 19:54:00',\n",
       "               '2018-12-31 19:55:00', '2018-12-31 19:56:00',\n",
       "               '2018-12-31 19:57:00', '2018-12-31 19:58:00',\n",
       "               '2018-12-31 19:59:00', '2018-12-31 20:00:00'],\n",
       "              dtype='datetime64[ns]', length=1023361, freq='T')"
      ]
     },
     "execution_count": 101,
     "metadata": {},
     "output_type": "execute_result"
    }
   ],
   "source": [
    "idx"
   ]
  },
  {
   "cell_type": "code",
   "execution_count": 102,
   "metadata": {},
   "outputs": [],
   "source": [
    "stock_price_cleaned.index = pd.DatetimeIndex(stock_price_cleaned.loc[:, 'DATE_TIME_M'])"
   ]
  },
  {
   "cell_type": "code",
   "execution_count": 103,
   "metadata": {},
   "outputs": [
    {
     "data": {
      "text/html": [
       "<div>\n",
       "<style scoped>\n",
       "    .dataframe tbody tr th:only-of-type {\n",
       "        vertical-align: middle;\n",
       "    }\n",
       "\n",
       "    .dataframe tbody tr th {\n",
       "        vertical-align: top;\n",
       "    }\n",
       "\n",
       "    .dataframe thead th {\n",
       "        text-align: right;\n",
       "    }\n",
       "</style>\n",
       "<table border=\"1\" class=\"dataframe\">\n",
       "  <thead>\n",
       "    <tr style=\"text-align: right;\">\n",
       "      <th></th>\n",
       "      <th>DATE_TIME_M</th>\n",
       "      <th>PRICE</th>\n",
       "    </tr>\n",
       "    <tr>\n",
       "      <th>DATE_TIME_M</th>\n",
       "      <th></th>\n",
       "      <th></th>\n",
       "    </tr>\n",
       "  </thead>\n",
       "  <tbody>\n",
       "    <tr>\n",
       "      <th>2017-01-20 04:00:00</th>\n",
       "      <td>2017-01-20 04:00:00</td>\n",
       "      <td>226.50</td>\n",
       "    </tr>\n",
       "    <tr>\n",
       "      <th>2017-01-20 04:04:00</th>\n",
       "      <td>2017-01-20 04:04:00</td>\n",
       "      <td>226.49</td>\n",
       "    </tr>\n",
       "    <tr>\n",
       "      <th>2017-01-20 04:05:00</th>\n",
       "      <td>2017-01-20 04:05:00</td>\n",
       "      <td>226.52</td>\n",
       "    </tr>\n",
       "    <tr>\n",
       "      <th>2017-01-20 04:08:00</th>\n",
       "      <td>2017-01-20 04:08:00</td>\n",
       "      <td>226.54</td>\n",
       "    </tr>\n",
       "    <tr>\n",
       "      <th>2017-01-20 04:10:00</th>\n",
       "      <td>2017-01-20 04:10:00</td>\n",
       "      <td>226.52</td>\n",
       "    </tr>\n",
       "    <tr>\n",
       "      <th>...</th>\n",
       "      <td>...</td>\n",
       "      <td>...</td>\n",
       "    </tr>\n",
       "    <tr>\n",
       "      <th>2018-12-31 19:56:00</th>\n",
       "      <td>2018-12-31 19:56:00</td>\n",
       "      <td>250.06</td>\n",
       "    </tr>\n",
       "    <tr>\n",
       "      <th>2018-12-31 19:57:00</th>\n",
       "      <td>2018-12-31 19:57:00</td>\n",
       "      <td>250.07</td>\n",
       "    </tr>\n",
       "    <tr>\n",
       "      <th>2018-12-31 19:58:00</th>\n",
       "      <td>2018-12-31 19:58:00</td>\n",
       "      <td>250.10</td>\n",
       "    </tr>\n",
       "    <tr>\n",
       "      <th>2018-12-31 19:59:00</th>\n",
       "      <td>2018-12-31 19:59:00</td>\n",
       "      <td>250.07</td>\n",
       "    </tr>\n",
       "    <tr>\n",
       "      <th>2018-12-31 20:00:00</th>\n",
       "      <td>2018-12-31 20:00:00</td>\n",
       "      <td>249.92</td>\n",
       "    </tr>\n",
       "  </tbody>\n",
       "</table>\n",
       "<p>381313 rows × 2 columns</p>\n",
       "</div>"
      ],
      "text/plain": [
       "                             DATE_TIME_M   PRICE\n",
       "DATE_TIME_M                                     \n",
       "2017-01-20 04:00:00  2017-01-20 04:00:00  226.50\n",
       "2017-01-20 04:04:00  2017-01-20 04:04:00  226.49\n",
       "2017-01-20 04:05:00  2017-01-20 04:05:00  226.52\n",
       "2017-01-20 04:08:00  2017-01-20 04:08:00  226.54\n",
       "2017-01-20 04:10:00  2017-01-20 04:10:00  226.52\n",
       "...                                  ...     ...\n",
       "2018-12-31 19:56:00  2018-12-31 19:56:00  250.06\n",
       "2018-12-31 19:57:00  2018-12-31 19:57:00  250.07\n",
       "2018-12-31 19:58:00  2018-12-31 19:58:00  250.10\n",
       "2018-12-31 19:59:00  2018-12-31 19:59:00  250.07\n",
       "2018-12-31 20:00:00  2018-12-31 20:00:00  249.92\n",
       "\n",
       "[381313 rows x 2 columns]"
      ]
     },
     "execution_count": 103,
     "metadata": {},
     "output_type": "execute_result"
    }
   ],
   "source": [
    "stock_price_cleaned"
   ]
  },
  {
   "cell_type": "code",
   "execution_count": 104,
   "metadata": {},
   "outputs": [],
   "source": [
    "stock_price_cleaned = stock_price_cleaned.reindex(idx, fill_value='NaN')"
   ]
  },
  {
   "cell_type": "code",
   "execution_count": 105,
   "metadata": {},
   "outputs": [
    {
     "data": {
      "text/html": [
       "<div>\n",
       "<style scoped>\n",
       "    .dataframe tbody tr th:only-of-type {\n",
       "        vertical-align: middle;\n",
       "    }\n",
       "\n",
       "    .dataframe tbody tr th {\n",
       "        vertical-align: top;\n",
       "    }\n",
       "\n",
       "    .dataframe thead th {\n",
       "        text-align: right;\n",
       "    }\n",
       "</style>\n",
       "<table border=\"1\" class=\"dataframe\">\n",
       "  <thead>\n",
       "    <tr style=\"text-align: right;\">\n",
       "      <th></th>\n",
       "      <th>DATE_TIME_M</th>\n",
       "      <th>PRICE</th>\n",
       "    </tr>\n",
       "  </thead>\n",
       "  <tbody>\n",
       "    <tr>\n",
       "      <th>2017-01-20 04:00:00</th>\n",
       "      <td>2017-01-20 04:00:00</td>\n",
       "      <td>226.5</td>\n",
       "    </tr>\n",
       "    <tr>\n",
       "      <th>2017-01-20 04:01:00</th>\n",
       "      <td>NaN</td>\n",
       "      <td>NaN</td>\n",
       "    </tr>\n",
       "    <tr>\n",
       "      <th>2017-01-20 04:02:00</th>\n",
       "      <td>NaN</td>\n",
       "      <td>NaN</td>\n",
       "    </tr>\n",
       "    <tr>\n",
       "      <th>2017-01-20 04:03:00</th>\n",
       "      <td>NaN</td>\n",
       "      <td>NaN</td>\n",
       "    </tr>\n",
       "    <tr>\n",
       "      <th>2017-01-20 04:04:00</th>\n",
       "      <td>2017-01-20 04:04:00</td>\n",
       "      <td>226.49</td>\n",
       "    </tr>\n",
       "    <tr>\n",
       "      <th>...</th>\n",
       "      <td>...</td>\n",
       "      <td>...</td>\n",
       "    </tr>\n",
       "    <tr>\n",
       "      <th>2018-12-31 19:56:00</th>\n",
       "      <td>2018-12-31 19:56:00</td>\n",
       "      <td>250.06</td>\n",
       "    </tr>\n",
       "    <tr>\n",
       "      <th>2018-12-31 19:57:00</th>\n",
       "      <td>2018-12-31 19:57:00</td>\n",
       "      <td>250.07</td>\n",
       "    </tr>\n",
       "    <tr>\n",
       "      <th>2018-12-31 19:58:00</th>\n",
       "      <td>2018-12-31 19:58:00</td>\n",
       "      <td>250.1</td>\n",
       "    </tr>\n",
       "    <tr>\n",
       "      <th>2018-12-31 19:59:00</th>\n",
       "      <td>2018-12-31 19:59:00</td>\n",
       "      <td>250.07</td>\n",
       "    </tr>\n",
       "    <tr>\n",
       "      <th>2018-12-31 20:00:00</th>\n",
       "      <td>2018-12-31 20:00:00</td>\n",
       "      <td>249.92</td>\n",
       "    </tr>\n",
       "  </tbody>\n",
       "</table>\n",
       "<p>1023361 rows × 2 columns</p>\n",
       "</div>"
      ],
      "text/plain": [
       "                             DATE_TIME_M   PRICE\n",
       "2017-01-20 04:00:00  2017-01-20 04:00:00   226.5\n",
       "2017-01-20 04:01:00                  NaN     NaN\n",
       "2017-01-20 04:02:00                  NaN     NaN\n",
       "2017-01-20 04:03:00                  NaN     NaN\n",
       "2017-01-20 04:04:00  2017-01-20 04:04:00  226.49\n",
       "...                                  ...     ...\n",
       "2018-12-31 19:56:00  2018-12-31 19:56:00  250.06\n",
       "2018-12-31 19:57:00  2018-12-31 19:57:00  250.07\n",
       "2018-12-31 19:58:00  2018-12-31 19:58:00   250.1\n",
       "2018-12-31 19:59:00  2018-12-31 19:59:00  250.07\n",
       "2018-12-31 20:00:00  2018-12-31 20:00:00  249.92\n",
       "\n",
       "[1023361 rows x 2 columns]"
      ]
     },
     "execution_count": 105,
     "metadata": {},
     "output_type": "execute_result"
    }
   ],
   "source": [
    "stock_price_cleaned"
   ]
  },
  {
   "cell_type": "code",
   "execution_count": 106,
   "metadata": {},
   "outputs": [],
   "source": [
    "stock_price_cleaned['DATE_TIME_M'] = stock_price_cleaned.index\n",
    "stock_price_cleaned.reset_index(drop=True, inplace=True)"
   ]
  },
  {
   "cell_type": "code",
   "execution_count": 107,
   "metadata": {},
   "outputs": [
    {
     "data": {
      "text/html": [
       "<div>\n",
       "<style scoped>\n",
       "    .dataframe tbody tr th:only-of-type {\n",
       "        vertical-align: middle;\n",
       "    }\n",
       "\n",
       "    .dataframe tbody tr th {\n",
       "        vertical-align: top;\n",
       "    }\n",
       "\n",
       "    .dataframe thead th {\n",
       "        text-align: right;\n",
       "    }\n",
       "</style>\n",
       "<table border=\"1\" class=\"dataframe\">\n",
       "  <thead>\n",
       "    <tr style=\"text-align: right;\">\n",
       "      <th></th>\n",
       "      <th>DATE_TIME_M</th>\n",
       "      <th>PRICE</th>\n",
       "    </tr>\n",
       "  </thead>\n",
       "  <tbody>\n",
       "    <tr>\n",
       "      <th>0</th>\n",
       "      <td>2017-01-20 04:00:00</td>\n",
       "      <td>226.5</td>\n",
       "    </tr>\n",
       "    <tr>\n",
       "      <th>1</th>\n",
       "      <td>2017-01-20 04:01:00</td>\n",
       "      <td>NaN</td>\n",
       "    </tr>\n",
       "    <tr>\n",
       "      <th>2</th>\n",
       "      <td>2017-01-20 04:02:00</td>\n",
       "      <td>NaN</td>\n",
       "    </tr>\n",
       "    <tr>\n",
       "      <th>3</th>\n",
       "      <td>2017-01-20 04:03:00</td>\n",
       "      <td>NaN</td>\n",
       "    </tr>\n",
       "    <tr>\n",
       "      <th>4</th>\n",
       "      <td>2017-01-20 04:04:00</td>\n",
       "      <td>226.49</td>\n",
       "    </tr>\n",
       "    <tr>\n",
       "      <th>...</th>\n",
       "      <td>...</td>\n",
       "      <td>...</td>\n",
       "    </tr>\n",
       "    <tr>\n",
       "      <th>1023356</th>\n",
       "      <td>2018-12-31 19:56:00</td>\n",
       "      <td>250.06</td>\n",
       "    </tr>\n",
       "    <tr>\n",
       "      <th>1023357</th>\n",
       "      <td>2018-12-31 19:57:00</td>\n",
       "      <td>250.07</td>\n",
       "    </tr>\n",
       "    <tr>\n",
       "      <th>1023358</th>\n",
       "      <td>2018-12-31 19:58:00</td>\n",
       "      <td>250.1</td>\n",
       "    </tr>\n",
       "    <tr>\n",
       "      <th>1023359</th>\n",
       "      <td>2018-12-31 19:59:00</td>\n",
       "      <td>250.07</td>\n",
       "    </tr>\n",
       "    <tr>\n",
       "      <th>1023360</th>\n",
       "      <td>2018-12-31 20:00:00</td>\n",
       "      <td>249.92</td>\n",
       "    </tr>\n",
       "  </tbody>\n",
       "</table>\n",
       "<p>1023361 rows × 2 columns</p>\n",
       "</div>"
      ],
      "text/plain": [
       "                DATE_TIME_M   PRICE\n",
       "0       2017-01-20 04:00:00   226.5\n",
       "1       2017-01-20 04:01:00     NaN\n",
       "2       2017-01-20 04:02:00     NaN\n",
       "3       2017-01-20 04:03:00     NaN\n",
       "4       2017-01-20 04:04:00  226.49\n",
       "...                     ...     ...\n",
       "1023356 2018-12-31 19:56:00  250.06\n",
       "1023357 2018-12-31 19:57:00  250.07\n",
       "1023358 2018-12-31 19:58:00   250.1\n",
       "1023359 2018-12-31 19:59:00  250.07\n",
       "1023360 2018-12-31 20:00:00  249.92\n",
       "\n",
       "[1023361 rows x 2 columns]"
      ]
     },
     "execution_count": 107,
     "metadata": {},
     "output_type": "execute_result"
    }
   ],
   "source": [
    "stock_price_cleaned"
   ]
  },
  {
   "cell_type": "code",
   "execution_count": 110,
   "metadata": {},
   "outputs": [],
   "source": [
    "stock_price_cleaned = stock_price_cleaned.astype({'PRICE': 'float'})\n",
    "stock_price_cleaned['PRICE'].interpolate(method='linear', inplace=True)"
   ]
  },
  {
   "cell_type": "code",
   "execution_count": 111,
   "metadata": {},
   "outputs": [
    {
     "data": {
      "text/plain": [
       "numpy.float64"
      ]
     },
     "execution_count": 111,
     "metadata": {},
     "output_type": "execute_result"
    }
   ],
   "source": [
    "type(stock_price_cleaned.iloc[0, 1])"
   ]
  },
  {
   "cell_type": "code",
   "execution_count": 112,
   "metadata": {},
   "outputs": [
    {
     "data": {
      "text/html": [
       "<div>\n",
       "<style scoped>\n",
       "    .dataframe tbody tr th:only-of-type {\n",
       "        vertical-align: middle;\n",
       "    }\n",
       "\n",
       "    .dataframe tbody tr th {\n",
       "        vertical-align: top;\n",
       "    }\n",
       "\n",
       "    .dataframe thead th {\n",
       "        text-align: right;\n",
       "    }\n",
       "</style>\n",
       "<table border=\"1\" class=\"dataframe\">\n",
       "  <thead>\n",
       "    <tr style=\"text-align: right;\">\n",
       "      <th></th>\n",
       "      <th>DATE_TIME_M</th>\n",
       "      <th>PRICE</th>\n",
       "    </tr>\n",
       "  </thead>\n",
       "  <tbody>\n",
       "    <tr>\n",
       "      <th>0</th>\n",
       "      <td>2017-01-20 04:00:00</td>\n",
       "      <td>226.5000</td>\n",
       "    </tr>\n",
       "    <tr>\n",
       "      <th>1</th>\n",
       "      <td>2017-01-20 04:01:00</td>\n",
       "      <td>226.4975</td>\n",
       "    </tr>\n",
       "    <tr>\n",
       "      <th>2</th>\n",
       "      <td>2017-01-20 04:02:00</td>\n",
       "      <td>226.4950</td>\n",
       "    </tr>\n",
       "    <tr>\n",
       "      <th>3</th>\n",
       "      <td>2017-01-20 04:03:00</td>\n",
       "      <td>226.4925</td>\n",
       "    </tr>\n",
       "    <tr>\n",
       "      <th>4</th>\n",
       "      <td>2017-01-20 04:04:00</td>\n",
       "      <td>226.4900</td>\n",
       "    </tr>\n",
       "    <tr>\n",
       "      <th>...</th>\n",
       "      <td>...</td>\n",
       "      <td>...</td>\n",
       "    </tr>\n",
       "    <tr>\n",
       "      <th>1023356</th>\n",
       "      <td>2018-12-31 19:56:00</td>\n",
       "      <td>250.0600</td>\n",
       "    </tr>\n",
       "    <tr>\n",
       "      <th>1023357</th>\n",
       "      <td>2018-12-31 19:57:00</td>\n",
       "      <td>250.0700</td>\n",
       "    </tr>\n",
       "    <tr>\n",
       "      <th>1023358</th>\n",
       "      <td>2018-12-31 19:58:00</td>\n",
       "      <td>250.1000</td>\n",
       "    </tr>\n",
       "    <tr>\n",
       "      <th>1023359</th>\n",
       "      <td>2018-12-31 19:59:00</td>\n",
       "      <td>250.0700</td>\n",
       "    </tr>\n",
       "    <tr>\n",
       "      <th>1023360</th>\n",
       "      <td>2018-12-31 20:00:00</td>\n",
       "      <td>249.9200</td>\n",
       "    </tr>\n",
       "  </tbody>\n",
       "</table>\n",
       "<p>1023361 rows × 2 columns</p>\n",
       "</div>"
      ],
      "text/plain": [
       "                DATE_TIME_M     PRICE\n",
       "0       2017-01-20 04:00:00  226.5000\n",
       "1       2017-01-20 04:01:00  226.4975\n",
       "2       2017-01-20 04:02:00  226.4950\n",
       "3       2017-01-20 04:03:00  226.4925\n",
       "4       2017-01-20 04:04:00  226.4900\n",
       "...                     ...       ...\n",
       "1023356 2018-12-31 19:56:00  250.0600\n",
       "1023357 2018-12-31 19:57:00  250.0700\n",
       "1023358 2018-12-31 19:58:00  250.1000\n",
       "1023359 2018-12-31 19:59:00  250.0700\n",
       "1023360 2018-12-31 20:00:00  249.9200\n",
       "\n",
       "[1023361 rows x 2 columns]"
      ]
     },
     "execution_count": 112,
     "metadata": {},
     "output_type": "execute_result"
    }
   ],
   "source": [
    "stock_price_cleaned"
   ]
  },
  {
   "cell_type": "code",
   "execution_count": 114,
   "metadata": {},
   "outputs": [],
   "source": [
    "stock_price_cleaned.to_csv(\"stock_price_cleaned.csv\", index=False, header=True)"
   ]
  },
  {
   "cell_type": "markdown",
   "metadata": {},
   "source": [
    "## Perform EDA"
   ]
  },
  {
   "cell_type": "code",
   "execution_count": 49,
   "metadata": {},
   "outputs": [
    {
     "data": {
      "text/plain": [
       "pandas._libs.tslibs.timestamps.Timestamp"
      ]
     },
     "execution_count": 49,
     "metadata": {},
     "output_type": "execute_result"
    }
   ],
   "source": [
    "stock_price = pd.read_csv(\"stock_price.csv\", parse_dates=[['DATE', 'TIME_M']])"
   ]
  },
  {
   "cell_type": "code",
   "execution_count": null,
   "metadata": {},
   "outputs": [],
   "source": []
  },
  {
   "cell_type": "code",
   "execution_count": null,
   "metadata": {},
   "outputs": [],
   "source": [
    "\n"
   ]
  },
  {
   "cell_type": "code",
   "execution_count": null,
   "metadata": {},
   "outputs": [],
   "source": [
    "\n",
    "\n",
    "\n"
   ]
  }
 ],
 "metadata": {
  "kernelspec": {
   "display_name": "Python 3",
   "language": "python",
   "name": "python3"
  },
  "language_info": {
   "codemirror_mode": {
    "name": "ipython",
    "version": 3
   },
   "file_extension": ".py",
   "mimetype": "text/x-python",
   "name": "python",
   "nbconvert_exporter": "python",
   "pygments_lexer": "ipython3",
   "version": "3.7.7"
  }
 },
 "nbformat": 4,
 "nbformat_minor": 2
}
